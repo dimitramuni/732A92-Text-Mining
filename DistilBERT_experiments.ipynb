{
  "cells": [
    {
      "cell_type": "markdown",
      "metadata": {
        "id": "view-in-github",
        "colab_type": "text"
      },
      "source": [
        "<a href=\"https://colab.research.google.com/github/dimitramuni/732A92-Text-Mining/blob/main/DistilBERT_experiments.ipynb\" target=\"_parent\"><img src=\"https://colab.research.google.com/assets/colab-badge.svg\" alt=\"Open In Colab\"/></a>"
      ]
    },
    {
      "cell_type": "code",
      "execution_count": null,
      "metadata": {
        "id": "OTrvgSdWyKfv"
      },
      "outputs": [],
      "source": [
        "#using data from http://snap.stanford.edu/data/web-FineFoods.html\n",
        "import pandas as pd\n",
        "import numpy as np\n",
        "import matplotlib.pyplot as plt\n",
        "plt.style.use('seaborn-darkgrid')"
      ]
    },
    {
      "cell_type": "code",
      "execution_count": null,
      "metadata": {
        "id": "5ta2EEu2yPRt"
      },
      "outputs": [],
      "source": [
        "#Data Cleaning\n",
        "with open('/content/drive/MyDrive/Finefood/finefood.txt', encoding='latin-1') as source:\n",
        "    f=source.read()\n",
        "    raw_list=f.split('\\n\\n')\n",
        "    #creating a dictionary with productID and userID as keys \n",
        "    #{('productID','userID'):('profileName','helpfuness','score','time','summary','text')}\n",
        "    \n",
        "    my_dict={}\n",
        "    for row in raw_list:\n",
        "      #disregaring the row which has more than 8 features\n",
        "      if(len(row.split('\\n'))==8):\n",
        "        my_dict[row.split('\\n')[0].split(': ')[1],row.split('\\n')[1].split(': ')[1]]\\\n",
        "        =row.split('\\n')[2].split(': ')[1],row.split('\\n')[3].split(': ')[1],row.\\\n",
        "        split('\\n')[4].split(': ')[1],row.split('\\n')[5].split(': ')[1],row.split('\\n')[6].\\\n",
        "        split(': ')[1],row.split('\\n')[7].split(': ')[1]  \n",
        "      \n",
        "\n",
        "\n",
        "    "
      ]
    },
    {
      "cell_type": "code",
      "execution_count": null,
      "metadata": {
        "colab": {
          "base_uri": "https://localhost:8080/"
        },
        "id": "yY0wpCbHyRKg",
        "outputId": "164e34e6-1bb4-459a-b10e-e9b24aa730ca"
      },
      "outputs": [
        {
          "data": {
            "text/plain": [
              "productID       object\n",
              "userID          object\n",
              "profileName     object\n",
              "helpfulness     object\n",
              "score          float64\n",
              "time            object\n",
              "summary         string\n",
              "text            string\n",
              "dtype: object"
            ]
          },
          "execution_count": 4,
          "metadata": {},
          "output_type": "execute_result"
        }
      ],
      "source": [
        "FF_k=pd.DataFrame(my_dict.keys(),columns=['productID','userID'])\n",
        "FF_v=pd.DataFrame.from_dict(my_dict,orient='index',columns=['profileName','helpfulness','score','time','summary','text']).reset_index()\n",
        "FineFoods=pd.merge(FF_k,FF_v,left_index=True, right_index=True).drop(columns='index')\n",
        "FineFoods['score']=FineFoods['score'].astype('float')\n",
        "FineFoods[['summary','text']]=FineFoods[['summary','text']].astype('string')\n",
        "FineFoods.head()\n",
        "FineFoods.dtypes\n"
      ]
    },
    {
      "cell_type": "code",
      "execution_count": null,
      "metadata": {
        "colab": {
          "base_uri": "https://localhost:8080/",
          "height": 424
        },
        "id": "H7mw4KwmyWI1",
        "outputId": "16d101c8-34e0-4e74-e934-125ac45d88a8"
      },
      "outputs": [
        {
          "data": {
            "text/html": [
              "\n",
              "  <div id=\"df-de61222a-4b4c-4a62-96ab-49d93770f58a\">\n",
              "    <div class=\"colab-df-container\">\n",
              "      <div>\n",
              "<style scoped>\n",
              "    .dataframe tbody tr th:only-of-type {\n",
              "        vertical-align: middle;\n",
              "    }\n",
              "\n",
              "    .dataframe tbody tr th {\n",
              "        vertical-align: top;\n",
              "    }\n",
              "\n",
              "    .dataframe thead th {\n",
              "        text-align: right;\n",
              "    }\n",
              "</style>\n",
              "<table border=\"1\" class=\"dataframe\">\n",
              "  <thead>\n",
              "    <tr style=\"text-align: right;\">\n",
              "      <th></th>\n",
              "      <th>productID</th>\n",
              "      <th>userID</th>\n",
              "      <th>profileName</th>\n",
              "      <th>helpfulness</th>\n",
              "      <th>score</th>\n",
              "      <th>time</th>\n",
              "      <th>summary</th>\n",
              "      <th>text</th>\n",
              "      <th>sentiment</th>\n",
              "      <th>sentiment_binary</th>\n",
              "    </tr>\n",
              "  </thead>\n",
              "  <tbody>\n",
              "    <tr>\n",
              "      <th>0</th>\n",
              "      <td>B001E4KFG0</td>\n",
              "      <td>A3SGXH7AUHU8GW</td>\n",
              "      <td>delmartian</td>\n",
              "      <td>1/1</td>\n",
              "      <td>5.0</td>\n",
              "      <td>1303862400</td>\n",
              "      <td>Good Quality Dog Food</td>\n",
              "      <td>I have bought several of the Vitality canned d...</td>\n",
              "      <td>positive</td>\n",
              "      <td>1</td>\n",
              "    </tr>\n",
              "    <tr>\n",
              "      <th>1</th>\n",
              "      <td>B00813GRG4</td>\n",
              "      <td>A1D87F6ZCVE5NK</td>\n",
              "      <td>dll pa</td>\n",
              "      <td>0/0</td>\n",
              "      <td>1.0</td>\n",
              "      <td>1346976000</td>\n",
              "      <td>Not as Advertised</td>\n",
              "      <td>Product arrived labeled as Jumbo Salted Peanut...</td>\n",
              "      <td>negative</td>\n",
              "      <td>0</td>\n",
              "    </tr>\n",
              "    <tr>\n",
              "      <th>2</th>\n",
              "      <td>B000LQOCH0</td>\n",
              "      <td>ABXLMWJIXXAIN</td>\n",
              "      <td>Natalia Corres \"Natalia Corres\"</td>\n",
              "      <td>1/1</td>\n",
              "      <td>4.0</td>\n",
              "      <td>1219017600</td>\n",
              "      <td>\"Delight\" says it all</td>\n",
              "      <td>This is a confection that has been around a fe...</td>\n",
              "      <td>positive</td>\n",
              "      <td>1</td>\n",
              "    </tr>\n",
              "    <tr>\n",
              "      <th>3</th>\n",
              "      <td>B000UA0QIQ</td>\n",
              "      <td>A395BORC6FGVXV</td>\n",
              "      <td>Karl</td>\n",
              "      <td>3/3</td>\n",
              "      <td>2.0</td>\n",
              "      <td>1307923200</td>\n",
              "      <td>Cough Medicine</td>\n",
              "      <td>If you are looking for the secret ingredient i...</td>\n",
              "      <td>negative</td>\n",
              "      <td>0</td>\n",
              "    </tr>\n",
              "    <tr>\n",
              "      <th>4</th>\n",
              "      <td>B006K2ZZ7K</td>\n",
              "      <td>A1UQRSCLF8GW1T</td>\n",
              "      <td>Michael D. Bigham \"M. Wassir\"</td>\n",
              "      <td>0/0</td>\n",
              "      <td>5.0</td>\n",
              "      <td>1350777600</td>\n",
              "      <td>Great taffy</td>\n",
              "      <td>Great taffy at a great price.  There was a wid...</td>\n",
              "      <td>positive</td>\n",
              "      <td>1</td>\n",
              "    </tr>\n",
              "  </tbody>\n",
              "</table>\n",
              "</div>\n",
              "      <button class=\"colab-df-convert\" onclick=\"convertToInteractive('df-de61222a-4b4c-4a62-96ab-49d93770f58a')\"\n",
              "              title=\"Convert this dataframe to an interactive table.\"\n",
              "              style=\"display:none;\">\n",
              "        \n",
              "  <svg xmlns=\"http://www.w3.org/2000/svg\" height=\"24px\"viewBox=\"0 0 24 24\"\n",
              "       width=\"24px\">\n",
              "    <path d=\"M0 0h24v24H0V0z\" fill=\"none\"/>\n",
              "    <path d=\"M18.56 5.44l.94 2.06.94-2.06 2.06-.94-2.06-.94-.94-2.06-.94 2.06-2.06.94zm-11 1L8.5 8.5l.94-2.06 2.06-.94-2.06-.94L8.5 2.5l-.94 2.06-2.06.94zm10 10l.94 2.06.94-2.06 2.06-.94-2.06-.94-.94-2.06-.94 2.06-2.06.94z\"/><path d=\"M17.41 7.96l-1.37-1.37c-.4-.4-.92-.59-1.43-.59-.52 0-1.04.2-1.43.59L10.3 9.45l-7.72 7.72c-.78.78-.78 2.05 0 2.83L4 21.41c.39.39.9.59 1.41.59.51 0 1.02-.2 1.41-.59l7.78-7.78 2.81-2.81c.8-.78.8-2.07 0-2.86zM5.41 20L4 18.59l7.72-7.72 1.47 1.35L5.41 20z\"/>\n",
              "  </svg>\n",
              "      </button>\n",
              "      \n",
              "  <style>\n",
              "    .colab-df-container {\n",
              "      display:flex;\n",
              "      flex-wrap:wrap;\n",
              "      gap: 12px;\n",
              "    }\n",
              "\n",
              "    .colab-df-convert {\n",
              "      background-color: #E8F0FE;\n",
              "      border: none;\n",
              "      border-radius: 50%;\n",
              "      cursor: pointer;\n",
              "      display: none;\n",
              "      fill: #1967D2;\n",
              "      height: 32px;\n",
              "      padding: 0 0 0 0;\n",
              "      width: 32px;\n",
              "    }\n",
              "\n",
              "    .colab-df-convert:hover {\n",
              "      background-color: #E2EBFA;\n",
              "      box-shadow: 0px 1px 2px rgba(60, 64, 67, 0.3), 0px 1px 3px 1px rgba(60, 64, 67, 0.15);\n",
              "      fill: #174EA6;\n",
              "    }\n",
              "\n",
              "    [theme=dark] .colab-df-convert {\n",
              "      background-color: #3B4455;\n",
              "      fill: #D2E3FC;\n",
              "    }\n",
              "\n",
              "    [theme=dark] .colab-df-convert:hover {\n",
              "      background-color: #434B5C;\n",
              "      box-shadow: 0px 1px 3px 1px rgba(0, 0, 0, 0.15);\n",
              "      filter: drop-shadow(0px 1px 2px rgba(0, 0, 0, 0.3));\n",
              "      fill: #FFFFFF;\n",
              "    }\n",
              "  </style>\n",
              "\n",
              "      <script>\n",
              "        const buttonEl =\n",
              "          document.querySelector('#df-de61222a-4b4c-4a62-96ab-49d93770f58a button.colab-df-convert');\n",
              "        buttonEl.style.display =\n",
              "          google.colab.kernel.accessAllowed ? 'block' : 'none';\n",
              "\n",
              "        async function convertToInteractive(key) {\n",
              "          const element = document.querySelector('#df-de61222a-4b4c-4a62-96ab-49d93770f58a');\n",
              "          const dataTable =\n",
              "            await google.colab.kernel.invokeFunction('convertToInteractive',\n",
              "                                                     [key], {});\n",
              "          if (!dataTable) return;\n",
              "\n",
              "          const docLinkHtml = 'Like what you see? Visit the ' +\n",
              "            '<a target=\"_blank\" href=https://colab.research.google.com/notebooks/data_table.ipynb>data table notebook</a>'\n",
              "            + ' to learn more about interactive tables.';\n",
              "          element.innerHTML = '';\n",
              "          dataTable['output_type'] = 'display_data';\n",
              "          await google.colab.output.renderOutput(dataTable, element);\n",
              "          const docLink = document.createElement('div');\n",
              "          docLink.innerHTML = docLinkHtml;\n",
              "          element.appendChild(docLink);\n",
              "        }\n",
              "      </script>\n",
              "    </div>\n",
              "  </div>\n",
              "  "
            ],
            "text/plain": [
              "    productID          userID                      profileName helpfulness  \\\n",
              "0  B001E4KFG0  A3SGXH7AUHU8GW                       delmartian         1/1   \n",
              "1  B00813GRG4  A1D87F6ZCVE5NK                           dll pa         0/0   \n",
              "2  B000LQOCH0   ABXLMWJIXXAIN  Natalia Corres \"Natalia Corres\"         1/1   \n",
              "3  B000UA0QIQ  A395BORC6FGVXV                             Karl         3/3   \n",
              "4  B006K2ZZ7K  A1UQRSCLF8GW1T    Michael D. Bigham \"M. Wassir\"         0/0   \n",
              "\n",
              "   score        time                summary  \\\n",
              "0    5.0  1303862400  Good Quality Dog Food   \n",
              "1    1.0  1346976000      Not as Advertised   \n",
              "2    4.0  1219017600  \"Delight\" says it all   \n",
              "3    2.0  1307923200         Cough Medicine   \n",
              "4    5.0  1350777600            Great taffy   \n",
              "\n",
              "                                                text sentiment  \\\n",
              "0  I have bought several of the Vitality canned d...  positive   \n",
              "1  Product arrived labeled as Jumbo Salted Peanut...  negative   \n",
              "2  This is a confection that has been around a fe...  positive   \n",
              "3  If you are looking for the secret ingredient i...  negative   \n",
              "4  Great taffy at a great price.  There was a wid...  positive   \n",
              "\n",
              "   sentiment_binary  \n",
              "0                 1  \n",
              "1                 0  \n",
              "2                 1  \n",
              "3                 0  \n",
              "4                 1  "
            ]
          },
          "execution_count": 5,
          "metadata": {},
          "output_type": "execute_result"
        }
      ],
      "source": [
        "FineFoods_Reduced=FineFoods.loc[FineFoods.score!=3].copy()\n",
        "FineFoods_Reduced['sentiment']=np.select([FineFoods_Reduced.score>3,FineFoods_Reduced.score<3],['positive','negative'])\n",
        "FineFoods_Reduced['sentiment_binary']=np.select([FineFoods_Reduced.score>3,FineFoods_Reduced.score<3],[1,0])\n",
        "\n",
        "FineFoods_Reduced.head()\n",
        "#https://newbedev.com/how-to-use-if-else-in-pandas-dataframe-code-example"
      ]
    },
    {
      "cell_type": "code",
      "execution_count": null,
      "metadata": {
        "colab": {
          "base_uri": "https://localhost:8080/"
        },
        "id": "dVZhwLT7Jcrc",
        "outputId": "d2592812-63c6-4303-8639-a5aa55afcf79"
      },
      "outputs": [
        {
          "data": {
            "text/plain": [
              "1    437635\n",
              "0     81135\n",
              "Name: sentiment_binary, dtype: int64"
            ]
          },
          "execution_count": 6,
          "metadata": {},
          "output_type": "execute_result"
        }
      ],
      "source": [
        "FineFoods_Reduced['sentiment_binary'].value_counts()"
      ]
    },
    {
      "cell_type": "code",
      "execution_count": null,
      "metadata": {
        "colab": {
          "base_uri": "https://localhost:8080/"
        },
        "id": "a87xQ1RSfMeQ",
        "outputId": "8bca5d2a-9b8c-4195-8df4-c5b0c240c7b9"
      },
      "outputs": [
        {
          "name": "stdout",
          "output_type": "stream",
          "text": [
            "Total number of data points: 518770\n"
          ]
        }
      ],
      "source": [
        "print('Total number of data points:', FineFoods_Reduced.shape[0])"
      ]
    },
    {
      "cell_type": "code",
      "execution_count": null,
      "metadata": {
        "id": "RPkTZztryYre"
      },
      "outputs": [],
      "source": [
        "from sklearn.model_selection import train_test_split\n",
        "Xtrain,Xtest,ytrain,ytest=train_test_split(FineFoods_Reduced['text'],FineFoods_Reduced['sentiment_binary'],test_size=0.15, stratify=FineFoods_Reduced['sentiment_binary'])\n"
      ]
    },
    {
      "cell_type": "code",
      "execution_count": null,
      "metadata": {
        "colab": {
          "base_uri": "https://localhost:8080/"
        },
        "id": "1UVNp0ZTTDjx",
        "outputId": "bfde2831-dabb-42f4-d182-e4d5f1e10ed7"
      },
      "outputs": [
        {
          "data": {
            "text/plain": [
              "1    371989\n",
              "0     68965\n",
              "Name: sentiment_binary, dtype: int64"
            ]
          },
          "execution_count": 9,
          "metadata": {},
          "output_type": "execute_result"
        }
      ],
      "source": [
        "ytrain.value_counts()"
      ]
    },
    {
      "cell_type": "code",
      "execution_count": null,
      "metadata": {
        "colab": {
          "base_uri": "https://localhost:8080/"
        },
        "id": "0cXewF4vR3nK",
        "outputId": "1a715842-d7d7-4195-dc5b-3faa1c518a3e"
      },
      "outputs": [
        {
          "data": {
            "text/plain": [
              "1    65646\n",
              "0    12170\n",
              "Name: sentiment_binary, dtype: int64"
            ]
          },
          "execution_count": 10,
          "metadata": {},
          "output_type": "execute_result"
        }
      ],
      "source": [
        "ytest.value_counts()"
      ]
    },
    {
      "cell_type": "code",
      "execution_count": null,
      "metadata": {
        "id": "dC1ZJfdbUV4F"
      },
      "outputs": [],
      "source": [
        "ytest=np.array(ytest).reshape((-1,1))"
      ]
    },
    {
      "cell_type": "markdown",
      "metadata": {
        "id": "qWS0OIJAydVg"
      },
      "source": [
        "# Undersampling Imbalanced Dataset"
      ]
    },
    {
      "cell_type": "code",
      "execution_count": null,
      "metadata": {
        "id": "kQUP6tfJygUx"
      },
      "outputs": [],
      "source": [
        "from imblearn.under_sampling import RandomUnderSampler\n",
        "\n",
        "Xtemp=np.array(Xtrain).reshape(-1,1)\n",
        "ytemp=np.array(ytrain).reshape(-1,1)\n",
        "RuSampler=RandomUnderSampler(random_state=1728)\n",
        "Xtr,ytr=RuSampler.fit_resample(Xtemp,ytemp)\n",
        "ytr=np.array(ytr).reshape((-1,1))\n"
      ]
    },
    {
      "cell_type": "code",
      "execution_count": null,
      "metadata": {
        "colab": {
          "base_uri": "https://localhost:8080/"
        },
        "id": "VI4mvHUbRIlI",
        "outputId": "8a3c76f0-036e-4c2d-cd52-7b39687f4741"
      },
      "outputs": [
        {
          "data": {
            "text/plain": [
              "0    68965\n",
              "1    68965\n",
              "dtype: int64"
            ]
          },
          "execution_count": 13,
          "metadata": {},
          "output_type": "execute_result"
        }
      ],
      "source": [
        "pd.Series(ytr.flatten()).value_counts()"
      ]
    },
    {
      "cell_type": "code",
      "execution_count": null,
      "metadata": {
        "colab": {
          "base_uri": "https://localhost:8080/"
        },
        "id": "DeFar-rU9ewx",
        "outputId": "341605e6-72f6-430c-aa3f-eaadc3ce0f42"
      },
      "outputs": [
        {
          "data": {
            "text/plain": [
              "137930"
            ]
          },
          "execution_count": 14,
          "metadata": {},
          "output_type": "execute_result"
        }
      ],
      "source": [
        "ntrain=Xtr.shape[0]\n",
        "ntrain"
      ]
    },
    {
      "cell_type": "code",
      "execution_count": null,
      "metadata": {
        "id": "Ek8_UBJ0UNiD"
      },
      "outputs": [],
      "source": [
        "df_balanced=pd.DataFrame(data={'text':Xtr.flatten(),'sentiment':ytr.flatten()})\n",
        "df_balanced_shuffled= df_balanced.sample(frac=1,random_state=1728).reset_index().drop(columns='index')"
      ]
    },
    {
      "cell_type": "code",
      "execution_count": null,
      "metadata": {
        "colab": {
          "base_uri": "https://localhost:8080/"
        },
        "id": "xHMkQwfuft7o",
        "outputId": "c63533e3-34f9-43f9-a0fd-97bbc82fdd34"
      },
      "outputs": [
        {
          "data": {
            "text/plain": [
              "137930"
            ]
          },
          "execution_count": 16,
          "metadata": {},
          "output_type": "execute_result"
        }
      ],
      "source": [
        "df_balanced_shuffled.shape[0]"
      ]
    },
    {
      "cell_type": "markdown",
      "metadata": {
        "id": "GhyB-IAxYytr"
      },
      "source": [
        "## Training + validation"
      ]
    },
    {
      "cell_type": "markdown",
      "metadata": {
        "id": "lBOunL-ZZfD0"
      },
      "source": [
        "Out of 137,930 training samples, we further utilise only 20% of the data for small BERT training, later on when we identify the tuned model, we re-train on entire training dataset."
      ]
    },
    {
      "cell_type": "code",
      "execution_count": null,
      "metadata": {
        "colab": {
          "base_uri": "https://localhost:8080/"
        },
        "id": "BFLJa28SZStC",
        "outputId": "44c33e42-ef8b-4d89-e063-57f428d752e4"
      },
      "outputs": [
        {
          "name": "stdout",
          "output_type": "stream",
          "text": [
            "27586\n"
          ]
        }
      ],
      "source": [
        "# by default this will run on 20% of the training dataset\n",
        "use_entire=False # change to True for using enire dataset\n",
        "if(use_entire==False):\n",
        "  n_train=int(np.floor(df_balanced_shuffled.shape[0]*0.2))\n",
        "else:\n",
        "  n_train=df_balanced_shuffled.shape[0]\n",
        "\n",
        "df_balanced_shuffled_dataset=df_balanced_shuffled.iloc[:n_train]\n",
        "print(df_balanced_shuffled_dataset.shape[0])\n",
        "#Further 75-25 Training Validation Split\n",
        "train_len=int(np.floor(n_train*0.75))\n",
        "\n",
        "X_tr=df_balanced_shuffled_dataset['text'].iloc[:train_len].copy()\n",
        "y_tr=df_balanced_shuffled_dataset['sentiment'].iloc[:train_len].copy()\n",
        "\n",
        "X_val=df_balanced_shuffled_dataset['text'].iloc[train_len:].copy()\n",
        "y_val=df_balanced_shuffled_dataset['sentiment'].iloc[train_len:].copy()"
      ]
    },
    {
      "cell_type": "code",
      "execution_count": null,
      "metadata": {
        "colab": {
          "base_uri": "https://localhost:8080/"
        },
        "id": "C06ITAR1bhfK",
        "outputId": "6341061b-9144-4bd0-928b-969fec15b1e7"
      },
      "outputs": [
        {
          "data": {
            "text/plain": [
              "0    13827\n",
              "1    13758\n",
              "Name: sentiment, dtype: int64"
            ]
          },
          "execution_count": 54,
          "metadata": {},
          "output_type": "execute_result"
        }
      ],
      "source": [
        "df_balanced_shuffled_dataset['sentiment'].iloc[1:n_train].value_counts()"
      ]
    },
    {
      "cell_type": "code",
      "execution_count": null,
      "metadata": {
        "colab": {
          "base_uri": "https://localhost:8080/"
        },
        "id": "OVzzy0kcXwKI",
        "outputId": "76a42dd5-7bc7-4f06-c472-c4e875427429"
      },
      "outputs": [
        {
          "data": {
            "text/plain": [
              "0    10396\n",
              "1    10293\n",
              "Name: sentiment, dtype: int64"
            ]
          },
          "execution_count": 55,
          "metadata": {},
          "output_type": "execute_result"
        }
      ],
      "source": [
        "y_tr.value_counts()"
      ]
    },
    {
      "cell_type": "code",
      "execution_count": null,
      "metadata": {
        "colab": {
          "base_uri": "https://localhost:8080/"
        },
        "id": "1J2qyeWlY4Pt",
        "outputId": "79d6fe35-ae58-43dd-bc0c-c89ca1e67c2e"
      },
      "outputs": [
        {
          "data": {
            "text/plain": [
              "1    3465\n",
              "0    3432\n",
              "Name: sentiment, dtype: int64"
            ]
          },
          "execution_count": 56,
          "metadata": {},
          "output_type": "execute_result"
        }
      ],
      "source": [
        "y_val.value_counts()"
      ]
    },
    {
      "cell_type": "markdown",
      "metadata": {
        "id": "iGH-G4U7y755"
      },
      "source": [
        "# DistilBERT "
      ]
    },
    {
      "cell_type": "code",
      "execution_count": null,
      "metadata": {
        "colab": {
          "base_uri": "https://localhost:8080/"
        },
        "id": "S_SeFsrmy7Ks",
        "outputId": "e11a34ab-e771-4fde-97c0-2903e4f1a7e9"
      },
      "outputs": [
        {
          "name": "stdout",
          "output_type": "stream",
          "text": [
            "\u001b[31mERROR: pip's dependency resolver does not currently take into account all the packages that are installed. This behaviour is the source of the following dependency conflicts.\n",
            "tf-models-official 2.11.3 requires tensorflow~=2.11.0, but you have tensorflow 2.9.0 which is incompatible.\n",
            "tensorflow-text 2.11.0 requires tensorflow<2.12,>=2.11.0; platform_machine != \"arm64\" or platform_system != \"Darwin\", but you have tensorflow 2.9.0 which is incompatible.\u001b[0m\u001b[31m\n",
            "\u001b[0m\u001b[31mERROR: pip's dependency resolver does not currently take into account all the packages that are installed. This behaviour is the source of the following dependency conflicts.\n",
            "tf-models-official 2.11.3 requires tensorflow~=2.11.0, but you have tensorflow 2.9.0 which is incompatible.\n",
            "tf-models-official 2.11.3 requires tensorflow-text~=2.11.0, but you have tensorflow-text 2.9.0 which is incompatible.\u001b[0m\u001b[31m\n",
            "\u001b[0m"
          ]
        }
      ],
      "source": [
        "!pip install -q -U \"tensorflow==2.9.0\"\n",
        "!pip install -q -U \"tensorflow-text==2.9.0\""
      ]
    },
    {
      "cell_type": "code",
      "execution_count": null,
      "metadata": {
        "id": "SClRRXU2zLjw"
      },
      "outputs": [],
      "source": [
        "import logging\n",
        "logging.getLogger(\"tensorflow\").setLevel(logging.ERROR)\n",
        "import tensorflow as tf\n",
        "import tensorflow_text as text\n",
        "import tensorflow_hub as hub\n",
        "from keras.models import Sequential, Model\n",
        "from keras.layers import Dense, Activation, Dropout\n",
        "from keras.optimizers import SGD\n",
        "from sklearn.metrics import classification_report"
      ]
    },
    {
      "cell_type": "code",
      "execution_count": null,
      "metadata": {
        "id": "mtUoRQit1AUj"
      },
      "outputs": [],
      "source": [
        "#Reference: https://www.tensorflow.org/text/tutorials/classify_text_with_bert\n",
        "\n",
        "preprocessor = hub.KerasLayer(\"https://tfhub.dev/jeongukjae/distilbert_en_uncased_preprocess/2\")\n",
        "encoder = hub.KerasLayer(\"https://tfhub.dev/jeongukjae/distilbert_en_uncased_L-6_H-768_A-12/1\")\n",
        "\n",
        "\n",
        "text_input=tf.keras.layers.Input(shape=(),dtype=tf.string,name='text input')\n",
        "pre_processed_text=preprocessor(text_input)\n",
        "encoded_text=encoder(pre_processed_text)\n",
        "\n",
        "output_dropout_layer=tf.keras.layers.Dropout(0.1, name='Dropout_Layer')(encoded_text['pooled_output'])\n",
        "output_dense_layer=tf.keras.layers.Dense(1,activation='sigmoid',name='Dense_Layer')(output_dropout_layer)\n",
        "model=tf.keras.Model(inputs=[text_input],outputs=[output_dense_layer])\n"
      ]
    },
    {
      "cell_type": "code",
      "execution_count": null,
      "metadata": {
        "id": "4izTsjxo3sU3"
      },
      "outputs": [],
      "source": [
        "def performance_plot(history):\n",
        "  train_loss=history.history['loss']\n",
        "  val_loss=history.history['val_loss']\n",
        "  train_acc=history.history['binary_accuracy']\n",
        "  val_acc=history.history['val_binary_accuracy']\n",
        "  xvar=range(1,epochs+1)\n",
        "\n",
        "  plt.figure(figsize=(12,8))\n",
        "  plt.subplot(2,1,1)\n",
        "  plt.plot(xvar,train_acc)\n",
        "  plt.plot(xvar,val_acc)\n",
        "  plt.xlabel('epochs')\n",
        "  plt.ylabel('accuracy')\n",
        "  plt.legend(['Training Accuracy','Validation Accuracy'])\n",
        "\n",
        "  plt.subplot(2,1,2)\n",
        "  plt.plot(xvar,train_loss)\n",
        "  plt.plot(xvar,val_loss)\n",
        "  plt.xlabel('epochs')\n",
        "  plt.ylabel('loss')\n",
        "  plt.legend(['Training Loss','Validation Loss'])\n"
      ]
    },
    {
      "cell_type": "code",
      "execution_count": null,
      "metadata": {
        "colab": {
          "base_uri": "https://localhost:8080/",
          "height": 466
        },
        "id": "4MrJ1WmLJ1av",
        "outputId": "16f3e035-242c-4f18-99b7-76eed7c2dab3"
      },
      "outputs": [
        {
          "data": {
            "image/png": "[encoded data removed]",
            "text/plain": [
              "<IPython.core.display.Image object>"
            ]
          },
          "execution_count": 24,
          "metadata": {},
          "output_type": "execute_result"
        }
      ],
      "source": [
        "tf.keras.utils.plot_model(model)"
      ]
    },
    {
      "cell_type": "markdown",
      "metadata": {
        "id": "GlbO1Q7Im_0H"
      },
      "source": [
        "## Experiment:1\n",
        "\n",
        "Basic, without optimisation, lr=0.01\n"
      ]
    },
    {
      "cell_type": "code",
      "execution_count": null,
      "metadata": {
        "colab": {
          "base_uri": "https://localhost:8080/"
        },
        "id": "vYr0dUCRAf9A",
        "outputId": "434f5c1f-4ac3-4d45-dcb3-da40b75d7d97"
      },
      "outputs": [
        {
          "name": "stdout",
          "output_type": "stream",
          "text": [
            "Model: \"model\"\n",
            "__________________________________________________________________________________________________\n",
            " Layer (type)                   Output Shape         Param #     Connected to                     \n",
            "==================================================================================================\n",
            " text input (InputLayer)        [(None,)]            0           []                               \n",
            "                                                                                                  \n",
            " keras_layer (KerasLayer)       {'input_word_ids':   0           ['text input[0][0]']             \n",
            "                                (None, 128),                                                      \n",
            "                                 'input_mask': (Non                                               \n",
            "                                e, 128)}                                                          \n",
            "                                                                                                  \n",
            " keras_layer_1 (KerasLayer)     {'sequence_output':  66362880    ['keras_layer[0][0]',            \n",
            "                                 (None, 128, 768),                'keras_layer[0][1]']            \n",
            "                                 'pooled_output': (                                               \n",
            "                                None, 768),                                                       \n",
            "                                 'encoder_outputs':                                               \n",
            "                                 [(None, 128, 768),                                               \n",
            "                                 (None, 128, 768),                                                \n",
            "                                 (None, 128, 768),                                                \n",
            "                                 (None, 128, 768),                                                \n",
            "                                 (None, 128, 768),                                                \n",
            "                                 (None, 128, 768)]}                                               \n",
            "                                                                                                  \n",
            " Dropout_Layer (Dropout)        (None, 768)          0           ['keras_layer_1[0][6]']          \n",
            "                                                                                                  \n",
            " Dense_Layer (Dense)            (None, 1)            769         ['Dropout_Layer[0][0]']          \n",
            "                                                                                                  \n",
            "==================================================================================================\n",
            "Total params: 66,363,649\n",
            "Trainable params: 769\n",
            "Non-trainable params: 66,362,880\n",
            "__________________________________________________________________________________________________\n",
            "None\n",
            "Epoch 1/10\n",
            "81/81 [==============================] - 821s 10s/step - loss: 0.6021 - binary_accuracy: 0.7059 - precision: 0.7114 - recall: 0.6878 - val_loss: 0.5161 - val_binary_accuracy: 0.8119 - val_precision: 0.8234 - val_recall: 0.7965\n",
            "Epoch 2/10\n",
            "81/81 [==============================] - 868s 11s/step - loss: 0.4788 - binary_accuracy: 0.8135 - precision: 0.8319 - recall: 0.7834 - val_loss: 0.4428 - val_binary_accuracy: 0.8325 - val_precision: 0.8487 - val_recall: 0.8113\n",
            "Epoch 3/10\n",
            "81/81 [==============================] - 825s 10s/step - loss: 0.4272 - binary_accuracy: 0.8278 - precision: 0.8468 - recall: 0.7983 - val_loss: 0.4075 - val_binary_accuracy: 0.8404 - val_precision: 0.8479 - val_recall: 0.8315\n",
            "Epoch 4/10\n",
            "81/81 [==============================] - 789s 10s/step - loss: 0.3991 - binary_accuracy: 0.8349 - precision: 0.8510 - recall: 0.8100 - val_loss: 0.3868 - val_binary_accuracy: 0.8454 - val_precision: 0.8588 - val_recall: 0.8286\n",
            "Epoch 5/10\n",
            "81/81 [==============================] - 785s 10s/step - loss: 0.3824 - binary_accuracy: 0.8398 - precision: 0.8533 - recall: 0.8187 - val_loss: 0.3738 - val_binary_accuracy: 0.8467 - val_precision: 0.8560 - val_recall: 0.8355\n",
            "Epoch 6/10\n",
            "81/81 [==============================] - 782s 10s/step - loss: 0.3711 - binary_accuracy: 0.8424 - precision: 0.8558 - recall: 0.8217 - val_loss: 0.3649 - val_binary_accuracy: 0.8507 - val_precision: 0.8704 - val_recall: 0.8257\n",
            "Epoch 7/10\n",
            "81/81 [==============================] - 782s 10s/step - loss: 0.3633 - binary_accuracy: 0.8443 - precision: 0.8559 - recall: 0.8261 - val_loss: 0.3583 - val_binary_accuracy: 0.8491 - val_precision: 0.8536 - val_recall: 0.8444\n",
            "Epoch 8/10\n",
            "81/81 [==============================] - 782s 10s/step - loss: 0.3587 - binary_accuracy: 0.8454 - precision: 0.8567 - recall: 0.8276 - val_loss: 0.3544 - val_binary_accuracy: 0.8517 - val_precision: 0.8792 - val_recall: 0.8170\n",
            "Epoch 9/10\n",
            "81/81 [==============================] - 787s 10s/step - loss: 0.3535 - binary_accuracy: 0.8501 - precision: 0.8610 - recall: 0.8331 - val_loss: 0.3520 - val_binary_accuracy: 0.8515 - val_precision: 0.8849 - val_recall: 0.8098\n",
            "Epoch 10/10\n",
            "81/81 [==============================] - 790s 10s/step - loss: 0.3497 - binary_accuracy: 0.8494 - precision: 0.8596 - recall: 0.8335 - val_loss: 0.3466 - val_binary_accuracy: 0.8508 - val_precision: 0.8551 - val_recall: 0.8465\n",
            "\n",
            " Test Evaluation\n",
            "2432/2432 [==============================] - 1870s 769ms/step - loss: 0.3436 - binary_accuracy: 0.8473 - precision: 0.9704 - recall: 0.8447\n",
            "[0.3436398506164551, 0.8472679257392883, 0.9704075455665588, 0.8447125554084778]\n",
            "2432/2432 [==============================] - 1819s 747ms/step\n",
            "              precision    recall  f1-score   support\n",
            "\n",
            "           0       0.51      0.86      0.64     12170\n",
            "           1       0.97      0.84      0.90     65646\n",
            "\n",
            "    accuracy                           0.85     77816\n",
            "   macro avg       0.74      0.85      0.77     77816\n",
            "weighted avg       0.90      0.85      0.86     77816\n",
            "\n"
          ]
        }
      ],
      "source": [
        "epochs=10\n",
        "batch_size=256\n",
        "model.compile(optimizer='adam',\n",
        "              loss='binary_crossentropy',\n",
        "              metrics=[tf.keras.metrics.BinaryAccuracy(),tf.keras.metrics.Precision(),tf.keras.metrics.Recall()])\n",
        "\n",
        "print(model.summary())\n",
        "history1=model.fit(X_tr,y_tr,epochs=epochs,\n",
        "                    batch_size=batch_size,\n",
        "                    validation_data=(X_val,y_val),\n",
        "                    verbose=1)\n",
        "#print('\\n Training Evaluation')\n",
        "#print(model.evaluate(Xtr,ytr))\n",
        "print('\\n Test Evaluation')\n",
        "print(model.evaluate(Xtest,ytest))\n",
        "test_prediction=model.predict(Xtest)\n",
        "predicted_test=[1 if x>0.5 else 0 for x in test_prediction.flatten()]\n",
        "print(classification_report(ytest,predicted_test))\n"
      ]
    },
    {
      "cell_type": "code",
      "execution_count": null,
      "metadata": {
        "colab": {
          "base_uri": "https://localhost:8080/",
          "height": 493
        },
        "id": "RKZjd95Pn2va",
        "outputId": "11405a8b-d1a1-41a8-ba8e-415e5955a978"
      },
      "outputs": [
        {
          "data": {
            "image/png": "[encoded data removed]",
            "text/plain": [
              "<Figure size 864x576 with 2 Axes>"
            ]
          },
          "metadata": {},
          "output_type": "display_data"
        }
      ],
      "source": [
        "performance_plot(history1)"
      ]
    },
    {
      "cell_type": "markdown",
      "metadata": {
        "id": "_aiBENpunQnJ"
      },
      "source": [
        "## Experiment: 2 Adaptive Learning Rate\n",
        "\n"
      ]
    },
    {
      "cell_type": "code",
      "execution_count": null,
      "metadata": {
        "id": "RRbyKyyMTwKX"
      },
      "outputs": [],
      "source": [
        "#Referene: https://www.tensorflow.org/text/tutorials/classify_text_with_bert\n",
        "from official.nlp import optimization\n",
        "epochs=1\n",
        "batch_size=256\n",
        "step_per_epoch=int(X_tr.shape[0]/batch_size)\n",
        "total_steps=step_per_epoch*epochs\n",
        "warmup_steps= int(0.1 * total_steps)\n",
        "initial_lr=5e-2\n"
      ]
    },
    {
      "cell_type": "code",
      "execution_count": null,
      "metadata": {
        "id": "Uo1UmJHLZl9N"
      },
      "outputs": [],
      "source": [
        "exp2_opt=optimization.create_optimizer(init_lr=initial_lr,\n",
        "                                       num_warmup_steps=warmup_steps,\n",
        "                                       num_train_steps=total_steps,\n",
        "                                       optimizer_type='adamw')"
      ]
    },
    {
      "cell_type": "code",
      "execution_count": null,
      "metadata": {
        "colab": {
          "background_save": true,
          "base_uri": "https://localhost:8080/"
        },
        "id": "1PMLSOE7AIpf",
        "outputId": "918acb67-8093-4701-f420-a9b683f3309c"
      },
      "outputs": [
        {
          "name": "stdout",
          "output_type": "stream",
          "text": [
            "Model: \"model\"\n",
            "__________________________________________________________________________________________________\n",
            " Layer (type)                   Output Shape         Param #     Connected to                     \n",
            "==================================================================================================\n",
            " text input (InputLayer)        [(None,)]            0           []                               \n",
            "                                                                                                  \n",
            " keras_layer (KerasLayer)       {'input_word_ids':   0           ['text input[0][0]']             \n",
            "                                (None, 128),                                                      \n",
            "                                 'input_mask': (Non                                               \n",
            "                                e, 128)}                                                          \n",
            "                                                                                                  \n",
            " keras_layer_1 (KerasLayer)     {'encoder_outputs':  66362880    ['keras_layer[0][0]',            \n",
            "                                 [(None, 128, 768),               'keras_layer[0][1]']            \n",
            "                                 (None, 128, 768),                                                \n",
            "                                 (None, 128, 768),                                                \n",
            "                                 (None, 128, 768),                                                \n",
            "                                 (None, 128, 768),                                                \n",
            "                                 (None, 128, 768)],                                               \n",
            "                                 'sequence_output':                                               \n",
            "                                 (None, 128, 768),                                                \n",
            "                                 'pooled_output': (                                               \n",
            "                                None, 768)}                                                       \n",
            "                                                                                                  \n",
            " Dropout_Layer (Dropout)        (None, 768)          0           ['keras_layer_1[0][6]']          \n",
            "                                                                                                  \n",
            " Dense_Layer (Dense)            (None, 1)            769         ['Dropout_Layer[0][0]']          \n",
            "                                                                                                  \n",
            "==================================================================================================\n",
            "Total params: 66,363,649\n",
            "Trainable params: 769\n",
            "Non-trainable params: 66,362,880\n",
            "__________________________________________________________________________________________________\n",
            "None\n",
            "81/81 [==============================] - 4864s 60s/step - loss: 0.3905 - binary_accuracy: 0.8186 - precision_7: 0.8262 - recall_7: 0.8048 - val_loss: 0.3279 - val_binary_accuracy: 0.8557 - val_precision_7: 0.8624 - val_recall_7: 0.8482\n",
            "\n",
            " Test Evaluation\n",
            " 433/2432 [====>.........................] - ETA: 2:57:59 - loss: 0.3351 - binary_accuracy: 0.8500 - precision_7: 0.9733 - recall_7: 0.8444"
          ]
        }
      ],
      "source": [
        "model.compile(optimizer=exp2_opt,\n",
        "              loss='binary_crossentropy',\n",
        "              metrics=[tf.keras.metrics.BinaryAccuracy(),tf.keras.metrics.Precision(),tf.keras.metrics.Recall()])\n",
        "\n",
        "print(model.summary())\n",
        "history2=model.fit(X_tr,y_tr,epochs=epochs,\n",
        "                    batch_size=batch_size,\n",
        "                    validation_data=(X_val,y_val),\n",
        "                    verbose=1)\n",
        "#print('\\n Training Evaluation')\n",
        "#print(model.evaluate(Xtr,ytr))\n",
        "print('\\n Test Evaluation')\n",
        "print(model.evaluate(Xtest,ytest))\n",
        "test_prediction=model.predict(Xtest)\n",
        "predicted_test=[1 if x>0.5 else 0 for x in test_prediction.flatten()]\n",
        "print(classification_report(ytest,predicted_test))\n"
      ]
    },
    {
      "cell_type": "markdown",
      "metadata": {
        "id": "XMCUcn400E0A"
      },
      "source": [
        " Using entire dataset, with lr=0.01"
      ]
    },
    {
      "cell_type": "markdown",
      "metadata": {
        "id": "ZcQ0yAWVIf10"
      },
      "source": [
        "# References:\n",
        "\n",
        "1.   [Amazon Fine Foods Dataset](https://snap.stanford.edu/data/web-FineFoods.html)\n",
        "2.   [Newbedev-pandas-if-else](#https://newbedev.com/how-to-use-if-else-in-pandas-dataframe-code-example)\n",
        "3.   [Tensorflow-Tutorials](https://www.tensorflow.org/text/tutorials/classify_text_with_bert)\n",
        "4.    [What is BERT? | Deep Learning Tutorial 46 (Tensorflow, Keras & Python)](https://youtu.be/7kLi8u2dJz0)\n",
        "\n",
        "5. [Text Classification Using BERT & Tensorflow | Deep Learning Tutorial 47 (Tensorflow, Keras & Python)](https://www.youtube.com/watch?v=hOCDJyZ6quA)"
      ]
    }
  ],
  "metadata": {
    "colab": {
      "provenance": [],
      "mount_file_id": "1hFBP9w5kRXcktRLNuSC-EFUSkwe6c9Q8",
      "authorship_tag": "ABX9TyPrjIzQ4phiM+da67Z0g+uG",
      "include_colab_link": true
    },
    "gpuClass": "standard",
    "kernelspec": {
      "display_name": "Python 3",
      "name": "python3"
    },
    "language_info": {
      "name": "python"
    }
  },
  "nbformat": 4,
  "nbformat_minor": 0
}