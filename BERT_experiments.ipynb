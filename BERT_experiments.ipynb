{
  "nbformat": 4,
  "nbformat_minor": 0,
  "metadata": {
    "colab": {
      "provenance": [],
      "mount_file_id": "1hjSNaKE5ZTBtPwTBCHfGggZI-VGi8ZvW",
      "authorship_tag": "ABX9TyNFB7Gtv/fsN37oPqKva/JE",
      "include_colab_link": true
    },
    "kernelspec": {
      "name": "python3",
      "display_name": "Python 3"
    },
    "language_info": {
      "name": "python"
    },
    "accelerator": "TPU",
    "gpuClass": "standard"
  },
  "cells": [
    {
      "cell_type": "markdown",
      "metadata": {
        "id": "view-in-github",
        "colab_type": "text"
      },
      "source": [
        "<a href=\"https://colab.research.google.com/github/dimitramuni/732A92-Text-Mining/blob/main/BERT_experiments.ipynb\" target=\"_parent\"><img src=\"https://colab.research.google.com/assets/colab-badge.svg\" alt=\"Open In Colab\"/></a>"
      ]
    },
    {
      "cell_type": "code",
      "execution_count": null,
      "metadata": {
        "id": "OTrvgSdWyKfv"
      },
      "outputs": [],
      "source": [
        "#using data from http://snap.stanford.edu/data/web-FineFoods.html\n",
        "import pandas as pd\n",
        "import numpy as np\n",
        "import matplotlib.pyplot as plt"
      ]
    },
    {
      "cell_type": "code",
      "source": [
        "#Data Cleaning\n",
        "with open('/content/drive/MyDrive/Finefood/finefood.txt', encoding='latin-1') as source:\n",
        "    f=source.read()\n",
        "    raw_list=f.split('\\n\\n')\n",
        "    #creating a dictionary with productID and userID as keys \n",
        "    #{('productID','userID'):('profileName','helpfuness','score','time','summary','text')}\n",
        "    \n",
        "    my_dict={}\n",
        "    for row in raw_list:\n",
        "      #disregaring the row which has more than 8 features\n",
        "      if(len(row.split('\\n'))==8):\n",
        "        my_dict[row.split('\\n')[0].split(': ')[1],row.split('\\n')[1].split(': ')[1]]\\\n",
        "        =row.split('\\n')[2].split(': ')[1],row.split('\\n')[3].split(': ')[1],row.\\\n",
        "        split('\\n')[4].split(': ')[1],row.split('\\n')[5].split(': ')[1],row.split('\\n')[6].\\\n",
        "        split(': ')[1],row.split('\\n')[7].split(': ')[1]  \n",
        "      \n",
        "\n",
        "\n",
        "    "
      ],
      "metadata": {
        "id": "5ta2EEu2yPRt"
      },
      "execution_count": null,
      "outputs": []
    },
    {
      "cell_type": "code",
      "source": [
        "FF_k=pd.DataFrame(my_dict.keys(),columns=['productID','userID'])\n",
        "FF_v=pd.DataFrame.from_dict(my_dict,orient='index',columns=['profileName','helpfulness','score','time','summary','text']).reset_index()\n",
        "FineFoods=pd.merge(FF_k,FF_v,left_index=True, right_index=True).drop(columns='index')\n",
        "FineFoods['score']=FineFoods['score'].astype('float')\n",
        "FineFoods[['summary','text']]=FineFoods[['summary','text']].astype('string')\n",
        "FineFoods.head()\n",
        "FineFoods.dtypes\n"
      ],
      "metadata": {
        "colab": {
          "base_uri": "https://localhost:8080/"
        },
        "id": "yY0wpCbHyRKg",
        "outputId": "64605e65-9277-450a-e1fd-d0bc21d2b6eb"
      },
      "execution_count": null,
      "outputs": [
        {
          "output_type": "execute_result",
          "data": {
            "text/plain": [
              "productID       object\n",
              "userID          object\n",
              "profileName     object\n",
              "helpfulness     object\n",
              "score          float64\n",
              "time            object\n",
              "summary         string\n",
              "text            string\n",
              "dtype: object"
            ]
          },
          "metadata": {},
          "execution_count": 4
        }
      ]
    },
    {
      "cell_type": "code",
      "source": [
        "FineFoods_Reduced=FineFoods.loc[FineFoods.score!=3]\n",
        "FineFoods_Reduced['sentiment']=np.select([FineFoods_Reduced.score>3,FineFoods_Reduced.score<3],['positive','negative'])\n",
        "FineFoods_Reduced['sentiment_binary']=np.select([FineFoods_Reduced.score>3,FineFoods_Reduced.score<3],[1,0])\n",
        "\n",
        "FineFoods_Reduced.head()\n",
        "#https://newbedev.com/how-to-use-if-else-in-pandas-dataframe-code-example"
      ],
      "metadata": {
        "colab": {
          "base_uri": "https://localhost:8080/",
          "height": 658
        },
        "id": "H7mw4KwmyWI1",
        "outputId": "ab979b20-5299-4578-b4e0-07e6bac5affa"
      },
      "execution_count": null,
      "outputs": [
        {
          "output_type": "stream",
          "name": "stderr",
          "text": [
            "<ipython-input-5-6c3de1eb83d3>:2: SettingWithCopyWarning: \n",
            "A value is trying to be set on a copy of a slice from a DataFrame.\n",
            "Try using .loc[row_indexer,col_indexer] = value instead\n",
            "\n",
            "See the caveats in the documentation: https://pandas.pydata.org/pandas-docs/stable/user_guide/indexing.html#returning-a-view-versus-a-copy\n",
            "  FineFoods_Reduced['sentiment']=np.select([FineFoods_Reduced.score>3,FineFoods_Reduced.score<3],['positive','negative'])\n",
            "<ipython-input-5-6c3de1eb83d3>:3: SettingWithCopyWarning: \n",
            "A value is trying to be set on a copy of a slice from a DataFrame.\n",
            "Try using .loc[row_indexer,col_indexer] = value instead\n",
            "\n",
            "See the caveats in the documentation: https://pandas.pydata.org/pandas-docs/stable/user_guide/indexing.html#returning-a-view-versus-a-copy\n",
            "  FineFoods_Reduced['sentiment_binary']=np.select([FineFoods_Reduced.score>3,FineFoods_Reduced.score<3],[1,0])\n"
          ]
        },
        {
          "output_type": "execute_result",
          "data": {
            "text/plain": [
              "    productID          userID                      profileName helpfulness  \\\n",
              "0  B001E4KFG0  A3SGXH7AUHU8GW                       delmartian         1/1   \n",
              "1  B00813GRG4  A1D87F6ZCVE5NK                           dll pa         0/0   \n",
              "2  B000LQOCH0   ABXLMWJIXXAIN  Natalia Corres \"Natalia Corres\"         1/1   \n",
              "3  B000UA0QIQ  A395BORC6FGVXV                             Karl         3/3   \n",
              "4  B006K2ZZ7K  A1UQRSCLF8GW1T    Michael D. Bigham \"M. Wassir\"         0/0   \n",
              "\n",
              "   score        time                summary  \\\n",
              "0    5.0  1303862400  Good Quality Dog Food   \n",
              "1    1.0  1346976000      Not as Advertised   \n",
              "2    4.0  1219017600  \"Delight\" says it all   \n",
              "3    2.0  1307923200         Cough Medicine   \n",
              "4    5.0  1350777600            Great taffy   \n",
              "\n",
              "                                                text sentiment  \\\n",
              "0  I have bought several of the Vitality canned d...  positive   \n",
              "1  Product arrived labeled as Jumbo Salted Peanut...  negative   \n",
              "2  This is a confection that has been around a fe...  positive   \n",
              "3  If you are looking for the secret ingredient i...  negative   \n",
              "4  Great taffy at a great price.  There was a wid...  positive   \n",
              "\n",
              "   sentiment_binary  \n",
              "0                 1  \n",
              "1                 0  \n",
              "2                 1  \n",
              "3                 0  \n",
              "4                 1  "
            ],
            "text/html": [
              "\n",
              "  <div id=\"df-6df9c30e-921c-4de2-8a57-529b137f1e74\">\n",
              "    <div class=\"colab-df-container\">\n",
              "      <div>\n",
              "<style scoped>\n",
              "    .dataframe tbody tr th:only-of-type {\n",
              "        vertical-align: middle;\n",
              "    }\n",
              "\n",
              "    .dataframe tbody tr th {\n",
              "        vertical-align: top;\n",
              "    }\n",
              "\n",
              "    .dataframe thead th {\n",
              "        text-align: right;\n",
              "    }\n",
              "</style>\n",
              "<table border=\"1\" class=\"dataframe\">\n",
              "  <thead>\n",
              "    <tr style=\"text-align: right;\">\n",
              "      <th></th>\n",
              "      <th>productID</th>\n",
              "      <th>userID</th>\n",
              "      <th>profileName</th>\n",
              "      <th>helpfulness</th>\n",
              "      <th>score</th>\n",
              "      <th>time</th>\n",
              "      <th>summary</th>\n",
              "      <th>text</th>\n",
              "      <th>sentiment</th>\n",
              "      <th>sentiment_binary</th>\n",
              "    </tr>\n",
              "  </thead>\n",
              "  <tbody>\n",
              "    <tr>\n",
              "      <th>0</th>\n",
              "      <td>B001E4KFG0</td>\n",
              "      <td>A3SGXH7AUHU8GW</td>\n",
              "      <td>delmartian</td>\n",
              "      <td>1/1</td>\n",
              "      <td>5.0</td>\n",
              "      <td>1303862400</td>\n",
              "      <td>Good Quality Dog Food</td>\n",
              "      <td>I have bought several of the Vitality canned d...</td>\n",
              "      <td>positive</td>\n",
              "      <td>1</td>\n",
              "    </tr>\n",
              "    <tr>\n",
              "      <th>1</th>\n",
              "      <td>B00813GRG4</td>\n",
              "      <td>A1D87F6ZCVE5NK</td>\n",
              "      <td>dll pa</td>\n",
              "      <td>0/0</td>\n",
              "      <td>1.0</td>\n",
              "      <td>1346976000</td>\n",
              "      <td>Not as Advertised</td>\n",
              "      <td>Product arrived labeled as Jumbo Salted Peanut...</td>\n",
              "      <td>negative</td>\n",
              "      <td>0</td>\n",
              "    </tr>\n",
              "    <tr>\n",
              "      <th>2</th>\n",
              "      <td>B000LQOCH0</td>\n",
              "      <td>ABXLMWJIXXAIN</td>\n",
              "      <td>Natalia Corres \"Natalia Corres\"</td>\n",
              "      <td>1/1</td>\n",
              "      <td>4.0</td>\n",
              "      <td>1219017600</td>\n",
              "      <td>\"Delight\" says it all</td>\n",
              "      <td>This is a confection that has been around a fe...</td>\n",
              "      <td>positive</td>\n",
              "      <td>1</td>\n",
              "    </tr>\n",
              "    <tr>\n",
              "      <th>3</th>\n",
              "      <td>B000UA0QIQ</td>\n",
              "      <td>A395BORC6FGVXV</td>\n",
              "      <td>Karl</td>\n",
              "      <td>3/3</td>\n",
              "      <td>2.0</td>\n",
              "      <td>1307923200</td>\n",
              "      <td>Cough Medicine</td>\n",
              "      <td>If you are looking for the secret ingredient i...</td>\n",
              "      <td>negative</td>\n",
              "      <td>0</td>\n",
              "    </tr>\n",
              "    <tr>\n",
              "      <th>4</th>\n",
              "      <td>B006K2ZZ7K</td>\n",
              "      <td>A1UQRSCLF8GW1T</td>\n",
              "      <td>Michael D. Bigham \"M. Wassir\"</td>\n",
              "      <td>0/0</td>\n",
              "      <td>5.0</td>\n",
              "      <td>1350777600</td>\n",
              "      <td>Great taffy</td>\n",
              "      <td>Great taffy at a great price.  There was a wid...</td>\n",
              "      <td>positive</td>\n",
              "      <td>1</td>\n",
              "    </tr>\n",
              "  </tbody>\n",
              "</table>\n",
              "</div>\n",
              "      <button class=\"colab-df-convert\" onclick=\"convertToInteractive('df-6df9c30e-921c-4de2-8a57-529b137f1e74')\"\n",
              "              title=\"Convert this dataframe to an interactive table.\"\n",
              "              style=\"display:none;\">\n",
              "        \n",
              "  <svg xmlns=\"http://www.w3.org/2000/svg\" height=\"24px\"viewBox=\"0 0 24 24\"\n",
              "       width=\"24px\">\n",
              "    <path d=\"M0 0h24v24H0V0z\" fill=\"none\"/>\n",
              "    <path d=\"M18.56 5.44l.94 2.06.94-2.06 2.06-.94-2.06-.94-.94-2.06-.94 2.06-2.06.94zm-11 1L8.5 8.5l.94-2.06 2.06-.94-2.06-.94L8.5 2.5l-.94 2.06-2.06.94zm10 10l.94 2.06.94-2.06 2.06-.94-2.06-.94-.94-2.06-.94 2.06-2.06.94z\"/><path d=\"M17.41 7.96l-1.37-1.37c-.4-.4-.92-.59-1.43-.59-.52 0-1.04.2-1.43.59L10.3 9.45l-7.72 7.72c-.78.78-.78 2.05 0 2.83L4 21.41c.39.39.9.59 1.41.59.51 0 1.02-.2 1.41-.59l7.78-7.78 2.81-2.81c.8-.78.8-2.07 0-2.86zM5.41 20L4 18.59l7.72-7.72 1.47 1.35L5.41 20z\"/>\n",
              "  </svg>\n",
              "      </button>\n",
              "      \n",
              "  <style>\n",
              "    .colab-df-container {\n",
              "      display:flex;\n",
              "      flex-wrap:wrap;\n",
              "      gap: 12px;\n",
              "    }\n",
              "\n",
              "    .colab-df-convert {\n",
              "      background-color: #E8F0FE;\n",
              "      border: none;\n",
              "      border-radius: 50%;\n",
              "      cursor: pointer;\n",
              "      display: none;\n",
              "      fill: #1967D2;\n",
              "      height: 32px;\n",
              "      padding: 0 0 0 0;\n",
              "      width: 32px;\n",
              "    }\n",
              "\n",
              "    .colab-df-convert:hover {\n",
              "      background-color: #E2EBFA;\n",
              "      box-shadow: 0px 1px 2px rgba(60, 64, 67, 0.3), 0px 1px 3px 1px rgba(60, 64, 67, 0.15);\n",
              "      fill: #174EA6;\n",
              "    }\n",
              "\n",
              "    [theme=dark] .colab-df-convert {\n",
              "      background-color: #3B4455;\n",
              "      fill: #D2E3FC;\n",
              "    }\n",
              "\n",
              "    [theme=dark] .colab-df-convert:hover {\n",
              "      background-color: #434B5C;\n",
              "      box-shadow: 0px 1px 3px 1px rgba(0, 0, 0, 0.15);\n",
              "      filter: drop-shadow(0px 1px 2px rgba(0, 0, 0, 0.3));\n",
              "      fill: #FFFFFF;\n",
              "    }\n",
              "  </style>\n",
              "\n",
              "      <script>\n",
              "        const buttonEl =\n",
              "          document.querySelector('#df-6df9c30e-921c-4de2-8a57-529b137f1e74 button.colab-df-convert');\n",
              "        buttonEl.style.display =\n",
              "          google.colab.kernel.accessAllowed ? 'block' : 'none';\n",
              "\n",
              "        async function convertToInteractive(key) {\n",
              "          const element = document.querySelector('#df-6df9c30e-921c-4de2-8a57-529b137f1e74');\n",
              "          const dataTable =\n",
              "            await google.colab.kernel.invokeFunction('convertToInteractive',\n",
              "                                                     [key], {});\n",
              "          if (!dataTable) return;\n",
              "\n",
              "          const docLinkHtml = 'Like what you see? Visit the ' +\n",
              "            '<a target=\"_blank\" href=https://colab.research.google.com/notebooks/data_table.ipynb>data table notebook</a>'\n",
              "            + ' to learn more about interactive tables.';\n",
              "          element.innerHTML = '';\n",
              "          dataTable['output_type'] = 'display_data';\n",
              "          await google.colab.output.renderOutput(dataTable, element);\n",
              "          const docLink = document.createElement('div');\n",
              "          docLink.innerHTML = docLinkHtml;\n",
              "          element.appendChild(docLink);\n",
              "        }\n",
              "      </script>\n",
              "    </div>\n",
              "  </div>\n",
              "  "
            ]
          },
          "metadata": {},
          "execution_count": 5
        }
      ]
    },
    {
      "cell_type": "code",
      "source": [
        "from sklearn.model_selection import train_test_split\n",
        "Xtrain,Xtest,ytrain,ytest=train_test_split(FineFoods_Reduced['text'],FineFoods_Reduced['sentiment_binary'],test_size=0.3, stratify=FineFoods_Reduced['sentiment'])"
      ],
      "metadata": {
        "id": "RPkTZztryYre"
      },
      "execution_count": null,
      "outputs": []
    },
    {
      "cell_type": "markdown",
      "source": [
        "# Undersampling Imbalanced Dataset"
      ],
      "metadata": {
        "id": "qWS0OIJAydVg"
      }
    },
    {
      "cell_type": "code",
      "source": [
        "from imblearn.under_sampling import RandomUnderSampler\n",
        "\n",
        "\n",
        "#FineFoods['score']=FineFoods['score'].astype('string')\n",
        "Xtemp=np.array(Xtrain).reshape(-1,1)\n",
        "ytemp=np.array(ytrain).reshape(-1,1)\n",
        "RuSampler=RandomUnderSampler()\n",
        "Xtr,ytr=RuSampler.fit_resample(Xtemp,ytemp)\n",
        "ytr=np.array(ytr).reshape((-1,1))\n",
        "ytest=np.array(ytest).reshape((-1,1))"
      ],
      "metadata": {
        "id": "kQUP6tfJygUx"
      },
      "execution_count": null,
      "outputs": []
    },
    {
      "cell_type": "markdown",
      "source": [
        "# BERT "
      ],
      "metadata": {
        "id": "iGH-G4U7y755"
      }
    },
    {
      "cell_type": "code",
      "source": [
        "!pip install -q -U \"tensorflow==2.9.0\"\n",
        "!pip install -q -U \"tensorflow-text==2.9.0\""
      ],
      "metadata": {
        "id": "S_SeFsrmy7Ks",
        "colab": {
          "base_uri": "https://localhost:8080/"
        },
        "outputId": "b4dc6e77-0db3-405f-ef11-b25c31165e52"
      },
      "execution_count": null,
      "outputs": [
        {
          "output_type": "stream",
          "name": "stdout",
          "text": [
            "\u001b[2K     \u001b[90m━━━━━━━━━━━━━━━━━━━━━━━━━━━━━━━━━━━━━━━\u001b[0m \u001b[32m511.7/511.7 MB\u001b[0m \u001b[31m3.2 MB/s\u001b[0m eta \u001b[36m0:00:00\u001b[0m\n",
            "\u001b[2K     \u001b[90m━━━━━━━━━━━━━━━━━━━━━━━━━━━━━━━━━━━━━━━━\u001b[0m \u001b[32m4.6/4.6 MB\u001b[0m \u001b[31m42.3 MB/s\u001b[0m eta \u001b[36m0:00:00\u001b[0m\n",
            "\u001b[?25h"
          ]
        }
      ]
    },
    {
      "cell_type": "code",
      "source": [
        "import tensorflow as tf\n",
        "import tensorflow_text as text\n",
        "#if(text.__version__!=tf.__version__):\n",
        "#  raise RuntimeError('tensorflow_text and tensorflow version mismatch!')\n",
        "import tensorflow_hub as hub\n",
        "from keras.models import Sequential, Model\n",
        "from keras.layers import Dense, Activation, Dropout\n",
        "from keras.optimizers import SGD\n",
        "from sklearn.metrics import classification_report"
      ],
      "metadata": {
        "id": "SClRRXU2zLjw"
      },
      "execution_count": null,
      "outputs": []
    },
    {
      "cell_type": "code",
      "source": [
        "#Reference: https://www.tensorflow.org/text/tutorials/classify_text_with_bert\n",
        "\n",
        "def building_classifier_model(bert_type):\n",
        "  preprocessor = hub.KerasLayer(\"https://tfhub.dev/tensorflow/bert_en_uncased_preprocess/3\")\n",
        "  if(bert_type=='B1'):\n",
        "    encoder = hub.KerasLayer(\"https://tfhub.dev/tensorflow/small_bert/bert_en_uncased_L-2_H-128_A-2/1\")\n",
        "  \n",
        "  elif(bert_type=='B2'):\n",
        "    encoder = hub.KerasLayer(\"https://tfhub.dev/tensorflow/small_bert/bert_en_uncased_L-2_H-256_A-4/2\")\n",
        "  \n",
        "  elif(bert_type=='B3'):\n",
        "    encoder = hub.KerasLayer(\"https://tfhub.dev/tensorflow/small_bert/bert_en_uncased_L-4_H-128_A-2/2\")\n",
        " \n",
        "  elif(bert_type=='B4'):\n",
        "    encoder = hub.KerasLayer(\"https://tfhub.dev/tensorflow/small_bert/bert_en_uncased_L-4_H-256_A-4/2\")\n",
        "\n",
        "\n",
        "  text_input=tf.keras.layers.Input(shape=(),dtype=tf.string,name='text input')\n",
        "  pre_processed_text=preprocessor(text_input)\n",
        "  encoded_text=encoder(pre_processed_text)\n",
        "\n",
        "  output_dropout_layer=tf.keras.layers.Dropout(0.1, name='Dropout_Layer')(encoded_text['pooled_output'])\n",
        "  output_dense_layer=tf.keras.layers.Dense(1,activation='sigmoid',name='Dense_Layer')(output_dropout_layer)\n",
        "  model=tf.keras.Model(inputs=[text_input],outputs=[output_dense_layer])\n",
        "  return model"
      ],
      "metadata": {
        "id": "mtUoRQit1AUj"
      },
      "execution_count": null,
      "outputs": []
    },
    {
      "cell_type": "code",
      "source": [
        "def evaluate_classifier_model(model):\n",
        "  model.compile(optimizer='adam',loss='binary_crossentropy',metrics=[tf.keras.metrics.BinaryAccuracy(),\n",
        "                                                                                     tf.keras.metrics.AUC(),\n",
        "                                                                     tf.keras.metrics.Precision(),\n",
        "                                                                     tf.keras.metrics.Recall()])\n",
        "\n",
        "  model.fit(Xtr,ytr,epochs=5)\n",
        "  model.evaluate(Xtest,ytest)\n",
        "  test_prediction=model.predict(Xtest)\n",
        "  predicted_test=[1 if x>0.5 else 0 for x in test_prediction.flatten()]\n",
        "  return classification_report(ytest,predicted_test)"
      ],
      "metadata": {
        "id": "vYr0dUCRAf9A"
      },
      "execution_count": null,
      "outputs": []
    },
    {
      "cell_type": "code",
      "source": [
        "model_B1=building_classifier_model('B1')"
      ],
      "metadata": {
        "id": "4izTsjxo3sU3"
      },
      "execution_count": null,
      "outputs": []
    },
    {
      "cell_type": "code",
      "source": [
        "model_B2=building_classifier_model('B2')"
      ],
      "metadata": {
        "id": "1PMLSOE7AIpf"
      },
      "execution_count": null,
      "outputs": []
    },
    {
      "cell_type": "code",
      "source": [
        "model_B3=building_classifier_model('B3')"
      ],
      "metadata": {
        "id": "EMlCYXOlC4cH"
      },
      "execution_count": null,
      "outputs": []
    },
    {
      "cell_type": "code",
      "source": [
        "model_B4=building_classifier_model('B4')"
      ],
      "metadata": {
        "id": "oovRcXIDjNOs"
      },
      "execution_count": null,
      "outputs": []
    },
    {
      "cell_type": "code",
      "source": [
        "print(evaluate_classifier_model(model_B1))"
      ],
      "metadata": {
        "colab": {
          "base_uri": "https://localhost:8080/"
        },
        "id": "x3FnewvJ_z-_",
        "outputId": "be10ca83-ed09-4ca9-e4b5-b113309172df"
      },
      "execution_count": null,
      "outputs": [
        {
          "output_type": "stream",
          "name": "stdout",
          "text": [
            "Epoch 1/5\n",
            "3550/3550 [==============================] - 492s 138ms/step - loss: 0.6138 - binary_accuracy: 0.6599 - auc_2: 0.7214 - precision_3: 0.6580 - recall_3: 0.6660\n",
            "Epoch 2/5\n",
            "3550/3550 [==============================] - 493s 139ms/step - loss: 0.5910 - binary_accuracy: 0.6829 - auc_2: 0.7502 - precision_3: 0.6820 - recall_3: 0.6855\n",
            "Epoch 3/5\n",
            "3550/3550 [==============================] - 487s 137ms/step - loss: 0.5879 - binary_accuracy: 0.6858 - auc_2: 0.7540 - precision_3: 0.6850 - recall_3: 0.6879\n",
            "Epoch 4/5\n",
            "3550/3550 [==============================] - 497s 140ms/step - loss: 0.5873 - binary_accuracy: 0.6862 - auc_2: 0.7549 - precision_3: 0.6856 - recall_3: 0.6878\n",
            "Epoch 5/5\n",
            "3550/3550 [==============================] - 524s 148ms/step - loss: 0.5853 - binary_accuracy: 0.6895 - auc_2: 0.7571 - precision_3: 0.6885 - recall_3: 0.6923\n",
            "4864/4864 [==============================] - 714s 147ms/step - loss: 0.5713 - binary_accuracy: 0.7061 - auc_2: 0.7768 - precision_3: 0.9275 - recall_3: 0.7069\n",
            "4864/4864 [==============================] - 681s 140ms/step\n",
            "              precision    recall  f1-score   support\n",
            "\n",
            "           0       0.31      0.70      0.43     24340\n",
            "           1       0.93      0.71      0.80    131291\n",
            "\n",
            "    accuracy                           0.71    155631\n",
            "   macro avg       0.62      0.70      0.61    155631\n",
            "weighted avg       0.83      0.71      0.74    155631\n",
            "\n"
          ]
        }
      ]
    },
    {
      "cell_type": "code",
      "source": [
        "print(evaluate_classifier_model(model_B2))"
      ],
      "metadata": {
        "colab": {
          "base_uri": "https://localhost:8080/"
        },
        "id": "wBkV0fteCXtd",
        "outputId": "6a13374e-9bc5-40ee-f1e2-94f89f9f018b"
      },
      "execution_count": null,
      "outputs": [
        {
          "output_type": "stream",
          "name": "stdout",
          "text": [
            "Epoch 1/5\n",
            "3550/3550 [==============================] - 1334s 375ms/step - loss: 0.5637 - binary_accuracy: 0.7064 - auc_3: 0.7801 - precision_4: 0.7065 - recall_4: 0.7061\n",
            "Epoch 2/5\n",
            "3550/3550 [==============================] - 1343s 378ms/step - loss: 0.5338 - binary_accuracy: 0.7328 - auc_3: 0.8084 - precision_4: 0.7344 - recall_4: 0.7293\n",
            "Epoch 3/5\n",
            "3550/3550 [==============================] - 1340s 378ms/step - loss: 0.5315 - binary_accuracy: 0.7323 - auc_3: 0.8102 - precision_4: 0.7338 - recall_4: 0.7292\n",
            "Epoch 4/5\n",
            "3550/3550 [==============================] - 1338s 377ms/step - loss: 0.5298 - binary_accuracy: 0.7353 - auc_3: 0.8118 - precision_4: 0.7364 - recall_4: 0.7330\n",
            "Epoch 5/5\n",
            "3550/3550 [==============================] - 1345s 379ms/step - loss: 0.5276 - binary_accuracy: 0.7375 - auc_3: 0.8138 - precision_4: 0.7388 - recall_4: 0.7347\n",
            "4864/4864 [==============================] - 1814s 373ms/step - loss: 0.5153 - binary_accuracy: 0.7489 - auc_3: 0.8331 - precision_4: 0.9445 - recall_4: 0.7463\n",
            "4864/4864 [==============================] - 1808s 372ms/step\n",
            "              precision    recall  f1-score   support\n",
            "\n",
            "           0       0.36      0.76      0.49     24340\n",
            "           1       0.94      0.75      0.83    131291\n",
            "\n",
            "    accuracy                           0.75    155631\n",
            "   macro avg       0.65      0.75      0.66    155631\n",
            "weighted avg       0.85      0.75      0.78    155631\n",
            "\n"
          ]
        }
      ]
    },
    {
      "cell_type": "code",
      "source": [
        "print(evaluate_classifier_model(model_B3))"
      ],
      "metadata": {
        "colab": {
          "base_uri": "https://localhost:8080/"
        },
        "id": "Ecfrpt8gC4EX",
        "outputId": "85f39b78-f3c0-41ea-c9b4-8f643c51e20e"
      },
      "execution_count": null,
      "outputs": [
        {
          "output_type": "stream",
          "name": "stdout",
          "text": [
            "Epoch 1/5\n",
            "3550/3550 [==============================] - 1145s 321ms/step - loss: 0.6000 - binary_accuracy: 0.6758 - auc: 0.7399 - precision: 0.6735 - recall: 0.6824\n",
            "Epoch 2/5\n",
            "3550/3550 [==============================] - 1130s 318ms/step - loss: 0.5755 - binary_accuracy: 0.6978 - auc: 0.7680 - precision: 0.6979 - recall: 0.6976\n",
            "Epoch 3/5\n",
            "3550/3550 [==============================] - 1119s 315ms/step - loss: 0.5716 - binary_accuracy: 0.7020 - auc: 0.7723 - precision: 0.7017 - recall: 0.7028\n",
            "Epoch 4/5\n",
            "3550/3550 [==============================] - 1131s 319ms/step - loss: 0.5719 - binary_accuracy: 0.7016 - auc: 0.7721 - precision: 0.7015 - recall: 0.7016\n",
            "Epoch 5/5\n",
            "3550/3550 [==============================] - 1128s 318ms/step - loss: 0.5693 - binary_accuracy: 0.7039 - auc: 0.7749 - precision: 0.7040 - recall: 0.7035\n",
            "4864/4864 [==============================] - 1552s 319ms/step - loss: 0.5966 - binary_accuracy: 0.6829 - auc: 0.7974 - precision: 0.9412 - recall: 0.6657\n",
            "4864/4864 [==============================] - 1552s 319ms/step\n"
          ]
        }
      ]
    },
    {
      "cell_type": "code",
      "source": [
        "print(evaluate_classifier_model(model_B4))"
      ],
      "metadata": {
        "id": "e-yn4e0g1531"
      },
      "execution_count": null,
      "outputs": []
    }
  ]
}